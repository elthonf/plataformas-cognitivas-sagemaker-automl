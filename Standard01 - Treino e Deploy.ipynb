{
 "cells": [
  {
   "cell_type": "markdown",
   "metadata": {},
   "source": [
    "## Introdução\n",
    "\n",
    "Word2Vec é um algoritmo bem popular usado para gerar representações vetoriais densas de palavras em grandes textos usando aprendizado não supervisionado. Essas representações são úteis para muitas tarefas de processamento de linguagem natural (PLN/NLP), como análise de sentimentos, reconhecimento de entidades nomeadas e tradução automática.\n",
    "\n",
    "\n",
    "Modelos populares que aprendem tais representações ignoram a morfologia das palavras, atribuindo um vetor distinto a cada palavra. Essa é uma limitação, especialmente para idiomas com vocabulários grandes e muitas palavras incomuns. O algoritmo *SageMaker BlazingText* pode aprender representações vetoriais associadas aos caracteres n-gramas; representando palavras como a soma dessas representações de n-gramas de caracteres [1]. Esse método permite que o *BlazingText* gere vetores para palavras fora do vocabulário (out-of-vocabulary / OOV), conforme demonstrado neste notebook."
   ]
  },
  {
   "cell_type": "markdown",
   "metadata": {},
   "source": [
    "Ferramentas populares como [FastText](https://github.com/facebookresearch/fastText) aprendem a incorporação de subpalavras para gerar representações, mas têm uma escala ruim, pois podem ser executadas apenas em CPUs. O BlazingText estende o modelo FastText para alavancar GPUs, fornecendo mais de 10x aceleração, dependendo do hardware."
   ]
  },
  {
   "cell_type": "markdown",
   "metadata": {},
   "source": [
    "[1] P. Bojanowski, E. Grave, A. Joulin, T. Mikolov, [Enriching Word Vectors with Subword Information](https://arxiv.org/pdf/1607.04606.pdf)"
   ]
  },
  {
   "cell_type": "markdown",
   "metadata": {},
   "source": [
    "## Configurações\n"
   ]
  },
  {
   "cell_type": "code",
   "execution_count": null,
   "metadata": {},
   "outputs": [],
   "source": [
    "import sagemaker\n",
    "from sagemaker import get_execution_role\n",
    "import boto3\n",
    "import json"
   ]
  },
  {
   "cell_type": "code",
   "execution_count": null,
   "metadata": {
    "isConfigCell": true
   },
   "outputs": [],
   "source": [
    "sess = sagemaker.Session()\n",
    "\n",
    "role = get_execution_role()\n",
    "print(role) # Pega a Role/Função que criamos e que o Notetbook está rodando\n",
    "\n",
    "bucket = sess.default_bucket() # Pega o bucket padrão da Sessão (ou coloque aqui teu bucket já usado)\n",
    "print(bucket)\n",
    "prefix = 'blazingtext/aulasagemaker' #Pasta em que todo o trabalho será executado"
   ]
  },
  {
   "cell_type": "markdown",
   "metadata": {},
   "source": [
    "### Leitura dos dados para treinamento\n",
    "\n",
    "O BlazingText espera um único arquivo de texto pré-processado com tokens separados por espaço e cada linha do arquivo deve conter uma única frase. Eu já deixei o arquivo \n",
    "\n",
    "Neste exemplo, vamos treinar os vetores no conjunto de dados [text8](http://mattmahoney.net/dc/textdata.html) (100 MB), que é uma versão pequena (já pré-processada) do dump da Wikipedia em inglês. O arquivo já está pronto na pasta `datasets/textmining/text8.gz` e precisa ser descompactado."
   ]
  },
  {
   "cell_type": "code",
   "execution_count": null,
   "metadata": {},
   "outputs": [],
   "source": [
    "# Uncompressing\n",
    "!gzip -d datasets/textmining/text8.gz -f"
   ]
  },
  {
   "cell_type": "markdown",
   "metadata": {},
   "source": [
    "Após a descompactar o arquivo, precisamos carregá-los no S3 para que possam ser consumidos pelo SageMaker para o treinamento. Usaremos o Python SDK para fazer upload desse arquivo no bucket e na pasta escolhidos acima.\n",
    "\n",
    "Execute esta célula e confira se o arquivo está no local esperado."
   ]
  },
  {
   "cell_type": "code",
   "execution_count": null,
   "metadata": {},
   "outputs": [],
   "source": [
    "train_channel = prefix + '/train'\n",
    "\n",
    "sess.upload_data(path='datasets/textmining/text8', bucket=bucket, key_prefix=train_channel)\n",
    "\n",
    "s3_train_data = 's3://{}/{}'.format(bucket, train_channel)"
   ]
  },
  {
   "cell_type": "markdown",
   "metadata": {},
   "source": [
    "Então, precisamos configurar um local de saída no S3, onde o arquivo do modelo será salvo. Importante: é aí que ficará o arquivo resultante do treinamento do modelo."
   ]
  },
  {
   "cell_type": "code",
   "execution_count": null,
   "metadata": {},
   "outputs": [],
   "source": [
    "s3_output_location = 's3://{}/{}/output'.format(bucket, prefix)\n",
    "print(s3_output_location)"
   ]
  },
  {
   "cell_type": "markdown",
   "metadata": {},
   "source": [
    "## Preparando o treino  \n",
    "\n",
    "Agora que terminamos todas as configurações necessárias, estamos prontos para treinar nosso detector de objetos. Para começar, vamos criar um objeto ``sageMaker.estimator.Estimator``. Este estimador iniciará o trabalho de treinamento."
   ]
  },
  {
   "cell_type": "code",
   "execution_count": null,
   "metadata": {},
   "outputs": [],
   "source": [
    "region_name = boto3.Session().region_name\n",
    "print(region_name)"
   ]
  },
  {
   "cell_type": "code",
   "execution_count": null,
   "metadata": {},
   "outputs": [],
   "source": [
    "container = sagemaker.amazon.amazon_estimator.get_image_uri(region_name, \"blazingtext\", \"latest\")\n",
    "print('Using SageMaker BlazingText container: {} ({})'.format(container, region_name))"
   ]
  },
  {
   "cell_type": "markdown",
   "metadata": {},
   "source": [
    "## Treinando o modelo BlazingText para gerar vetores de palavras"
   ]
  },
  {
   "cell_type": "code",
   "execution_count": null,
   "metadata": {},
   "outputs": [],
   "source": [
    "bt_model = sagemaker.estimator.Estimator(container,\n",
    "                                         role, \n",
    "                                         train_instance_count=1, \n",
    "                                         train_instance_type='ml.c4.2xlarge', # Use of ml.p3.2xlarge is highly recommended for highest speed and cost efficiency\n",
    "                                         train_volume_size = 30,\n",
    "                                         train_max_run = 360000,\n",
    "                                         input_mode= 'File',\n",
    "                                         output_path=s3_output_location,\n",
    "                                         sagemaker_session=sess)"
   ]
  },
  {
   "cell_type": "markdown",
   "metadata": {},
   "source": [
    "Ajuste dos hyperparâmetros.  \n",
    "Consulte a [algorithm documentation](https://docs.aws.amazon.com/sagemaker/latest/dg/blazingtext_hyperparameters.html) para a lista completa."
   ]
  },
  {
   "cell_type": "code",
   "execution_count": null,
   "metadata": {},
   "outputs": [],
   "source": [
    "bt_model.set_hyperparameters(mode=\"skipgram\",\n",
    "                             epochs=5,\n",
    "                             min_count=5,\n",
    "                             sampling_threshold=0.0001,\n",
    "                             learning_rate=0.05,\n",
    "                             window_size=5,\n",
    "                             vector_dim=100,\n",
    "                             negative_samples=5,\n",
    "                             subwords=True, # Enables learning of subword embeddings for OOV word vector generation\n",
    "                             min_char=3, # min length of char ngrams\n",
    "                             max_char=6, # max length of char ngrams\n",
    "                             batch_size=11, #  = (2*window_size + 1) (Preferred. Used only if mode is batch_skipgram)\n",
    "                             evaluation=True)# Perform similarity evaluation on WS-353 dataset at the end of training"
   ]
  },
  {
   "cell_type": "markdown",
   "metadata": {},
   "source": [
    "Prepara variável que possui os dados que serão usados no treinamento."
   ]
  },
  {
   "cell_type": "code",
   "execution_count": null,
   "metadata": {},
   "outputs": [],
   "source": [
    "train_data = sagemaker.session.s3_input(s3_train_data, distribution='FullyReplicated', \n",
    "                        content_type='text/plain', s3_data_type='S3Prefix')\n",
    "data_channels = {'train': train_data}"
   ]
  },
  {
   "cell_type": "markdown",
   "metadata": {},
   "source": [
    "Depois que o trabalho terminar, uma mensagem \"Trabalho concluído\" será impressa. O modelo treinado pode ser encontrado no bucket S3 que foi configurado como `output_path` no estimador.\n",
    "\n",
    "Este processo deve demorar de **7 a 10 minutos** ... podemos acompanhar  pelo portal também 😊"
   ]
  },
  {
   "cell_type": "code",
   "execution_count": null,
   "metadata": {},
   "outputs": [],
   "source": [
    "bt_model.fit(inputs=data_channels, logs=True)"
   ]
  },
  {
   "cell_type": "markdown",
   "metadata": {},
   "source": [
    "## Hosting / Endpoint  \n",
    "\n",
    "Após a conclusão do treinamento, podemos implantar o modelo treinado como um endpoint hospedado em realtime do Amazon SageMaker. Isso nos permitirá fazer predições (ou scoring/inferência) a partir do modelo. Observe que não precisamos hospedar no mesmo tipo de instância que costumávamos treinar. Como os pontos de extremidade da instância estarão em funcionamento por muito tempo, podemoos escolher uma instância mais barata para inferência.\n",
    "\n",
    "Este processo deve demorar de **4 a 8 minutos**... podemos acompanhar 😊 pelo portal também :-)"
   ]
  },
  {
   "cell_type": "code",
   "execution_count": null,
   "metadata": {},
   "outputs": [],
   "source": [
    "bt_endpoint = bt_model.deploy(initial_instance_count = 1,instance_type = 'ml.m4.xlarge')\n",
    "print(\"Concluído!\")\n",
    "print(\"EndpointName do modelo: {0}\".format( bt_endpoint.endpoint) )"
   ]
  },
  {
   "cell_type": "markdown",
   "metadata": {},
   "source": [
    "### Obtendo representações vetoriais para palavras [incluindo out-of-vocabulary (OOV) words]"
   ]
  },
  {
   "cell_type": "markdown",
   "metadata": {},
   "source": [
    "Como treinamos com o parâmetro ** ```subwords =\"True\"``` **, podemos obter representações vetoriais para qualquer palavra - incluindo palavras com erros ortográficos ou palavras que não estavam presentes no conjunto de dados de treinamento.\n",
    "Se treinarmos sem o sinalizador de subpalavras, o treinamento será muito mais rápido, mas o modelo não poderá gerar vetores para palavras OOV. Em vez disso, retornará um vetor de zeros para essas palavras."
   ]
  },
  {
   "cell_type": "markdown",
   "metadata": {},
   "source": [
    "#### Use o padrão JSON para predição  \n",
    "\n",
    "O payload deve conter uma lista de palavras com a chave como \"**instances**\". O AWS Sagemaker suporta o tipo de conteúdo `application/json`."
   ]
  },
  {
   "cell_type": "code",
   "execution_count": null,
   "metadata": {},
   "outputs": [],
   "source": [
    "words = [\"awesome\", \"awweeesome\"]\n",
    "\n",
    "payload = {\"instances\" : words}\n",
    "\n",
    "response = bt_endpoint.predict(json.dumps(payload))\n",
    "\n",
    "vecs = json.loads(response)\n",
    "print(vecs)"
   ]
  },
  {
   "cell_type": "code",
   "execution_count": null,
   "metadata": {},
   "outputs": [],
   "source": [
    "print( len(vecs) )\n",
    "print( len(vecs[0]['vector']) )\n",
    "print( len(vecs[1]['vector']) )"
   ]
  },
  {
   "cell_type": "markdown",
   "metadata": {},
   "source": [
    "Como esperado, obtemos um vetor n-dimensional (onde n é vector_dim, conforme especificado nos hiperparâmetros) para cada uma das palavras."
   ]
  },
  {
   "cell_type": "markdown",
   "metadata": {},
   "source": [
    "---\n",
    "\n",
    "Ok! Agora é avaliar se está funcionando a partir de outras chamadas."
   ]
  },
  {
   "cell_type": "code",
   "execution_count": null,
   "metadata": {},
   "outputs": [],
   "source": []
  }
 ],
 "metadata": {
  "kernelspec": {
   "display_name": "conda_python3",
   "language": "python",
   "name": "conda_python3"
  },
  "language_info": {
   "codemirror_mode": {
    "name": "ipython",
    "version": 3
   },
   "file_extension": ".py",
   "mimetype": "text/x-python",
   "name": "python",
   "nbconvert_exporter": "python",
   "pygments_lexer": "ipython3",
   "version": "3.6.5"
  },
  "notice": "Copyright 2018 Amazon.com, Inc. or its affiliates. All Rights Reserved.  Licensed under the Apache License, Version 2.0 (the \"License\"). You may not use this file except in compliance with the License. A copy of the License is located at http://aws.amazon.com/apache2.0/ or in the \"license\" file accompanying this file. This file is distributed on an \"AS IS\" BASIS, WITHOUT WARRANTIES OR CONDITIONS OF ANY KIND, either express or implied. See the License for the specific language governing permissions and limitations under the License."
 },
 "nbformat": 4,
 "nbformat_minor": 2
}
